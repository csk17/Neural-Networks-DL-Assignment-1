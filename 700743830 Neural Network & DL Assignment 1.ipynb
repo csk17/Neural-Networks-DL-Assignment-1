{
 "cells": [
  {
   "cell_type": "code",
   "execution_count": 22,
   "id": "baca03b3",
   "metadata": {},
   "outputs": [
    {
     "name": "stdout",
     "output_type": "stream",
     "text": [
      "Enter the string: python\n",
      "ntyp\n"
     ]
    }
   ],
   "source": [
    "#entering the string from user console\n",
    "str=input('Enter the string: ')\n",
    "#deleting the two characters from input string\n",
    "str1=str.replace('h','')\n",
    "str2=str1.replace('o','')\n",
    "#reversing the modified string\n",
    "print(str2[::-1])"
   ]
  },
  {
   "cell_type": "code",
   "execution_count": 25,
   "id": "e0efd7e2",
   "metadata": {},
   "outputs": [
    {
     "name": "stdout",
     "output_type": "stream",
     "text": [
      "Enter the marks of the student: 72\n",
      "C Grade\n"
     ]
    }
   ],
   "source": [
    "#The user input of the marks obtained by the student as 'x'\n",
    "x=int(input('Enter the marks of the student: '))\n",
    "#using if statements printing the all possible grades for the student\n",
    "if x>=90:\n",
    "    #The A grade will be obtained\n",
    "    print('A Grade')\n",
    "elif x>=80:\n",
    "    #The B grade will be obtained\n",
    "    print('B Grade')\n",
    "elif x>=70:\n",
    "    #The C grade will be obtained\n",
    "    print('C Grade')\n",
    "elif x>=60:\n",
    "    #The D grade will be obtained\n",
    "    print('D Grade')\n",
    "else:\n",
    "    #The F grade will be obtained\n",
    "    print('F Grade')"
   ]
  },
  {
   "cell_type": "code",
   "execution_count": 23,
   "id": "2131881a",
   "metadata": {},
   "outputs": [
    {
     "name": "stdout",
     "output_type": "stream",
     "text": [
      "Enter a value:10\n",
      "Enter b value:5\n",
      "Sum :  15\n",
      "Difference :  5\n",
      "Product :  50\n",
      "Division :  2.0\n",
      "Modulous :  0\n"
     ]
    }
   ],
   "source": [
    "#entering the number from user as a\n",
    "a=int(input('Enter a value:'))\n",
    "#entering the number from user as b\n",
    "b=int(input('Enter b value:'))\n",
    "#printing the sum of a and b\n",
    "print('Sum : ',a+b)\n",
    "#printing the difference of a and b\n",
    "print('Difference : ',a-b)\n",
    "#printing the product of a and b\n",
    "print('Product : ',a*b)\n",
    "#printing the division of a and b\n",
    "print('Division : ',a/b)\n",
    "#printing the modulous of a and b\n",
    "print('Modulous : ',a%b)"
   ]
  },
  {
   "cell_type": "code",
   "execution_count": 24,
   "id": "5f9010f7",
   "metadata": {},
   "outputs": [
    {
     "name": "stdout",
     "output_type": "stream",
     "text": [
      "Enter the sentence : I love playing with python\n",
      "I love playing with pythons\n"
     ]
    }
   ],
   "source": [
    "#enter the string\n",
    "str=input('Enter the sentence : ')\n",
    "#replacing the word python as pythons in any occurence\n",
    "str1=str.replace('python','pythons')\n",
    "#printing the string\n",
    "print(str1)"
   ]
  },
  {
   "cell_type": "code",
   "execution_count": null,
   "id": "d5c5a4f5",
   "metadata": {},
   "outputs": [],
   "source": []
  }
 ],
 "metadata": {
  "kernelspec": {
   "display_name": "Python 3 (ipykernel)",
   "language": "python",
   "name": "python3"
  },
  "language_info": {
   "codemirror_mode": {
    "name": "ipython",
    "version": 3
   },
   "file_extension": ".py",
   "mimetype": "text/x-python",
   "name": "python",
   "nbconvert_exporter": "python",
   "pygments_lexer": "ipython3",
   "version": "3.9.12"
  }
 },
 "nbformat": 4,
 "nbformat_minor": 5
}
